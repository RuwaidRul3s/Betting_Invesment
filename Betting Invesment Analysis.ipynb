{
 "cells": [
  {
   "cell_type": "code",
   "execution_count": 1,
   "metadata": {},
   "outputs": [],
   "source": [
    "import pandas as pd \n",
    "from pandas import DataFrame,Series\n",
    "import matplotlib.pyplot as plt \n",
    "import seaborn as sns \n",
    "import numpy as np\n",
    "%matplotlib inline"
   ]
  },
  {
   "cell_type": "code",
   "execution_count": 2,
   "metadata": {},
   "outputs": [],
   "source": [
    "dt=pd.read_excel(r'C:\\Users\\rowid\\Desktop\\Invesments\\Bassem Match Betting.xlsx')"
   ]
  },
  {
   "cell_type": "code",
   "execution_count": 3,
   "metadata": {},
   "outputs": [
    {
     "data": {
      "text/html": [
       "<div>\n",
       "<style scoped>\n",
       "    .dataframe tbody tr th:only-of-type {\n",
       "        vertical-align: middle;\n",
       "    }\n",
       "\n",
       "    .dataframe tbody tr th {\n",
       "        vertical-align: top;\n",
       "    }\n",
       "\n",
       "    .dataframe thead th {\n",
       "        text-align: right;\n",
       "    }\n",
       "</style>\n",
       "<table border=\"1\" class=\"dataframe\">\n",
       "  <thead>\n",
       "    <tr style=\"text-align: right;\">\n",
       "      <th></th>\n",
       "      <th>Match_Date</th>\n",
       "      <th>Team Bet on</th>\n",
       "      <th>Coins Staked</th>\n",
       "      <th>Odds</th>\n",
       "      <th>Potenail Return</th>\n",
       "      <th>Profit</th>\n",
       "      <th>Bet Type</th>\n",
       "      <th>State</th>\n",
       "      <th>Cash Flow</th>\n",
       "      <th>Unnamed: 9</th>\n",
       "      <th>init invesment</th>\n",
       "      <th>120</th>\n",
       "    </tr>\n",
       "  </thead>\n",
       "  <tbody>\n",
       "    <tr>\n",
       "      <th>0</th>\n",
       "      <td>2021-08-20</td>\n",
       "      <td>Vitality</td>\n",
       "      <td>420</td>\n",
       "      <td>1.73</td>\n",
       "      <td>726.6</td>\n",
       "      <td>306.6</td>\n",
       "      <td>Correct Score</td>\n",
       "      <td>W</td>\n",
       "      <td>11106.0</td>\n",
       "      <td>NaN</td>\n",
       "      <td>NaN</td>\n",
       "      <td>NaN</td>\n",
       "    </tr>\n",
       "    <tr>\n",
       "      <th>1</th>\n",
       "      <td>2021-08-20</td>\n",
       "      <td>Blink</td>\n",
       "      <td>420</td>\n",
       "      <td>1.50</td>\n",
       "      <td>630.0</td>\n",
       "      <td>-420.0</td>\n",
       "      <td>Winner</td>\n",
       "      <td>L</td>\n",
       "      <td>10686.0</td>\n",
       "      <td>NaN</td>\n",
       "      <td>init invesment in coins</td>\n",
       "      <td>10800.0</td>\n",
       "    </tr>\n",
       "    <tr>\n",
       "      <th>2</th>\n",
       "      <td>2021-08-20</td>\n",
       "      <td>G2</td>\n",
       "      <td>420</td>\n",
       "      <td>1.67</td>\n",
       "      <td>701.4</td>\n",
       "      <td>-420.0</td>\n",
       "      <td>Winner</td>\n",
       "      <td>L</td>\n",
       "      <td>10266.0</td>\n",
       "      <td>NaN</td>\n",
       "      <td>NaN</td>\n",
       "      <td>NaN</td>\n",
       "    </tr>\n",
       "    <tr>\n",
       "      <th>3</th>\n",
       "      <td>2021-08-20</td>\n",
       "      <td>OG</td>\n",
       "      <td>420</td>\n",
       "      <td>1.40</td>\n",
       "      <td>588.0</td>\n",
       "      <td>168.0</td>\n",
       "      <td>1 Map</td>\n",
       "      <td>W</td>\n",
       "      <td>10434.0</td>\n",
       "      <td>NaN</td>\n",
       "      <td>Bouns</td>\n",
       "      <td>5.0</td>\n",
       "    </tr>\n",
       "    <tr>\n",
       "      <th>4</th>\n",
       "      <td>2021-08-20</td>\n",
       "      <td>Vp</td>\n",
       "      <td>420</td>\n",
       "      <td>1.73</td>\n",
       "      <td>726.6</td>\n",
       "      <td>-420.0</td>\n",
       "      <td>1 Map</td>\n",
       "      <td>L</td>\n",
       "      <td>10014.0</td>\n",
       "      <td>NaN</td>\n",
       "      <td>NaN</td>\n",
       "      <td>NaN</td>\n",
       "    </tr>\n",
       "  </tbody>\n",
       "</table>\n",
       "</div>"
      ],
      "text/plain": [
       "  Match_Date Team Bet on  Coins Staked  Odds  Potenail Return  Profit  \\\n",
       "0 2021-08-20    Vitality           420  1.73            726.6   306.6   \n",
       "1 2021-08-20       Blink           420  1.50            630.0  -420.0   \n",
       "2 2021-08-20          G2           420  1.67            701.4  -420.0   \n",
       "3 2021-08-20          OG           420  1.40            588.0   168.0   \n",
       "4 2021-08-20          Vp           420  1.73            726.6  -420.0   \n",
       "\n",
       "        Bet Type State  Cash Flow  Unnamed: 9           init invesment  \\\n",
       "0  Correct Score     W    11106.0         NaN                      NaN   \n",
       "1        Winner      L    10686.0         NaN  init invesment in coins   \n",
       "2        Winner      L    10266.0         NaN                      NaN   \n",
       "3          1 Map     W    10434.0         NaN                   Bouns    \n",
       "4          1 Map     L    10014.0         NaN                      NaN   \n",
       "\n",
       "       120  \n",
       "0      NaN  \n",
       "1  10800.0  \n",
       "2      NaN  \n",
       "3      5.0  \n",
       "4      NaN  "
      ]
     },
     "execution_count": 3,
     "metadata": {},
     "output_type": "execute_result"
    }
   ],
   "source": [
    "dt.head()"
   ]
  },
  {
   "cell_type": "code",
   "execution_count": 4,
   "metadata": {},
   "outputs": [
    {
     "data": {
      "text/plain": [
       "Match_Date         datetime64[ns]\n",
       "Team Bet on                object\n",
       "Coins Staked                int64\n",
       "Odds                      float64\n",
       "Potenail Return           float64\n",
       "Profit                    float64\n",
       "Bet Type                   object\n",
       "State                      object\n",
       "Cash Flow                 float64\n",
       "Unnamed: 9                float64\n",
       "init invesment             object\n",
       "120                       float64\n",
       "dtype: object"
      ]
     },
     "execution_count": 4,
     "metadata": {},
     "output_type": "execute_result"
    }
   ],
   "source": [
    "dt.dtypes"
   ]
  },
  {
   "cell_type": "code",
   "execution_count": 5,
   "metadata": {},
   "outputs": [],
   "source": [
    "Teams_Profit=dt.groupby(['Team Bet on'])['Profit'].sum()"
   ]
  },
  {
   "cell_type": "code",
   "execution_count": 6,
   "metadata": {},
   "outputs": [
    {
     "data": {
      "text/plain": [
       "Team Bet on\n",
       "AGO                     496.80\n",
       "Astralis                401.10\n",
       "Big                    -775.00\n",
       "Blink                  -420.00\n",
       "CPH                      26.49\n",
       "Dignitas                353.92\n",
       "Ence                    159.60\n",
       "Entropiq               -767.00\n",
       "Faze                   -778.55\n",
       "Fnatic                 -748.00\n",
       "Forze                  1653.40\n",
       "G2                    -2485.40\n",
       "GXR                    -364.00\n",
       "Gambit                 -467.00\n",
       "Heroic                  180.00\n",
       "K23                    -348.00\n",
       "LDLC                    705.60\n",
       "Liquid                  300.00\n",
       "Lyngby Vikings         1040.44\n",
       "Mibr                   -300.00\n",
       "Mouz                   -159.94\n",
       "Navi                   -431.50\n",
       "Nip                     763.18\n",
       "OG                     1247.97\n",
       "Paris Saint-Germain    -411.00\n",
       "Sinners                 108.50\n",
       "Skade                   329.24\n",
       "VP                      222.30\n",
       "Vitality                162.10\n",
       "Vp                      -29.80\n",
       "complexity            -1153.50\n",
       "none                     -8.00\n",
       "Name: Profit, dtype: float64"
      ]
     },
     "execution_count": 6,
     "metadata": {},
     "output_type": "execute_result"
    }
   ],
   "source": [
    "Teams_Profit"
   ]
  },
  {
   "cell_type": "code",
   "execution_count": 7,
   "metadata": {},
   "outputs": [
    {
     "data": {
      "image/png": "[encoded data removed]",
      "text/plain": [
       "<Figure size 432x288 with 1 Axes>"
      ]
     },
     "metadata": {},
     "output_type": "display_data"
    }
   ],
   "source": [
    "from scipy.stats import norm\n",
    "sns.set_style('whitegrid')\n",
    "plt.title('Teams Profit  Distribution')\n",
    "sns.distplot(Teams_Profit.values,kde=False,fit=norm)\n",
    "plt.show()"
   ]
  },
  {
   "cell_type": "code",
   "execution_count": 8,
   "metadata": {},
   "outputs": [],
   "source": [
    "from scipy.stats import shapiro\n",
    "w,a= shapiro(Teams_Profit)"
   ]
  },
  {
   "cell_type": "code",
   "execution_count": 9,
   "metadata": {},
   "outputs": [
    {
     "data": {
      "text/plain": [
       "-0.5715972982897787"
      ]
     },
     "execution_count": 9,
     "metadata": {},
     "output_type": "execute_result"
    }
   ],
   "source": [
    "from scipy.stats import skew\n",
    "skew(Teams_Profit.values)"
   ]
  },
  {
   "cell_type": "code",
   "execution_count": 10,
   "metadata": {
    "scrolled": false
   },
   "outputs": [
    {
     "data": {
      "text/plain": [
       "((array([-2.02511189, -1.62590278, -1.38593914, -1.20666642, -1.05953591,\n",
       "         -0.93235918, -0.81872017, -0.71478609, -0.6180591 , -0.52680137,\n",
       "         -0.43973827, -0.35589149, -0.27447843, -0.19484777, -0.11643566,\n",
       "         -0.03873405,  0.03873405,  0.11643566,  0.19484777,  0.27447843,\n",
       "          0.35589149,  0.43973827,  0.52680137,  0.6180591 ,  0.71478609,\n",
       "          0.81872017,  0.93235918,  1.05953591,  1.20666642,  1.38593914,\n",
       "          1.62590278,  2.02511189]),\n",
       "  array([-2485.4 , -1153.5 ,  -778.55,  -775.  ,  -767.  ,  -748.  ,\n",
       "          -467.  ,  -431.5 ,  -420.  ,  -411.  ,  -364.  ,  -348.  ,\n",
       "          -300.  ,  -159.94,   -29.8 ,    -8.  ,    26.49,   108.5 ,\n",
       "           159.6 ,   162.1 ,   180.  ,   222.3 ,   300.  ,   329.24,\n",
       "           353.92,   401.1 ,   496.8 ,   705.6 ,   763.18,  1040.44,\n",
       "          1247.97,  1653.4 ])),\n",
       " (768.8249981551977, -46.751562499999956, 0.966068669828835))"
      ]
     },
     "execution_count": 10,
     "metadata": {},
     "output_type": "execute_result"
    },
    {
     "data": {
      "image/png": "[encoded data removed]",
      "text/plain": [
       "<Figure size 432x288 with 1 Axes>"
      ]
     },
     "metadata": {},
     "output_type": "display_data"
    }
   ],
   "source": [
    "from scipy.stats import probplot\n",
    "probplot(Teams_Profit.values,plot=plt)"
   ]
  },
  {
   "cell_type": "code",
   "execution_count": 14,
   "metadata": {},
   "outputs": [],
   "source": [
    "# compare Teams Based on the Z score(measure is : Team profit )\n",
    "Teams_Profit_dt=DataFrame({'Team Name':Teams_Profit.index,\n",
    "                           'Team Profit':Teams_Profit.values\n",
    "                           })"
   ]
  },
  {
   "cell_type": "code",
   "execution_count": 16,
   "metadata": {},
   "outputs": [],
   "source": [
    "Teams_Profit_Avg=np.average(Teams_Profit.values)"
   ]
  },
  {
   "cell_type": "code",
   "execution_count": 18,
   "metadata": {},
   "outputs": [],
   "source": [
    "Teams_Profit_Sd=np.std(Teams_Profit.values)"
   ]
  },
  {
   "cell_type": "code",
   "execution_count": 20,
   "metadata": {},
   "outputs": [],
   "source": [
    "Teams_Profit_dt['Z-Score']=(Teams_Profit_dt['Team Profit']-Teams_Profit_Avg)/Teams_Profit_Sd"
   ]
  },
  {
   "cell_type": "code",
   "execution_count": 24,
   "metadata": {},
   "outputs": [],
   "source": [
    "Teams_Profit_dt.sort_values(by=['Z-Score'],ascending=False,inplace=True)"
   ]
  },
  {
   "cell_type": "code",
   "execution_count": 26,
   "metadata": {},
   "outputs": [
    {
     "data": {
      "text/html": [
       "<div>\n",
       "<style scoped>\n",
       "    .dataframe tbody tr th:only-of-type {\n",
       "        vertical-align: middle;\n",
       "    }\n",
       "\n",
       "    .dataframe tbody tr th {\n",
       "        vertical-align: top;\n",
       "    }\n",
       "\n",
       "    .dataframe thead th {\n",
       "        text-align: right;\n",
       "    }\n",
       "</style>\n",
       "<table border=\"1\" class=\"dataframe\">\n",
       "  <thead>\n",
       "    <tr style=\"text-align: right;\">\n",
       "      <th></th>\n",
       "      <th>Team Name</th>\n",
       "      <th>Team Profit</th>\n",
       "      <th>Z-Score</th>\n",
       "    </tr>\n",
       "  </thead>\n",
       "  <tbody>\n",
       "    <tr>\n",
       "      <th>10</th>\n",
       "      <td>Forze</td>\n",
       "      <td>1653.40</td>\n",
       "      <td>2.251689</td>\n",
       "    </tr>\n",
       "    <tr>\n",
       "      <th>23</th>\n",
       "      <td>OG</td>\n",
       "      <td>1247.97</td>\n",
       "      <td>1.714736</td>\n",
       "    </tr>\n",
       "    <tr>\n",
       "      <th>18</th>\n",
       "      <td>Lyngby Vikings</td>\n",
       "      <td>1040.44</td>\n",
       "      <td>1.439882</td>\n",
       "    </tr>\n",
       "    <tr>\n",
       "      <th>22</th>\n",
       "      <td>Nip</td>\n",
       "      <td>763.18</td>\n",
       "      <td>1.072677</td>\n",
       "    </tr>\n",
       "    <tr>\n",
       "      <th>16</th>\n",
       "      <td>LDLC</td>\n",
       "      <td>705.60</td>\n",
       "      <td>0.996418</td>\n",
       "    </tr>\n",
       "  </tbody>\n",
       "</table>\n",
       "</div>"
      ],
      "text/plain": [
       "         Team Name  Team Profit   Z-Score\n",
       "10           Forze      1653.40  2.251689\n",
       "23              OG      1247.97  1.714736\n",
       "18  Lyngby Vikings      1040.44  1.439882\n",
       "22             Nip       763.18  1.072677\n",
       "16            LDLC       705.60  0.996418"
      ]
     },
     "execution_count": 26,
     "metadata": {},
     "output_type": "execute_result"
    }
   ],
   "source": [
    "Teams_Profit_dt.head(5)"
   ]
  }
 ],
 "metadata": {
  "kernelspec": {
   "display_name": "Python 3",
   "language": "python",
   "name": "python3"
  },
  "language_info": {
   "codemirror_mode": {
    "name": "ipython",
    "version": 3
   },
   "file_extension": ".py",
   "mimetype": "text/x-python",
   "name": "python",
   "nbconvert_exporter": "python",
   "pygments_lexer": "ipython3",
   "version": "3.8.3"
  }
 },
 "nbformat": 4,
 "nbformat_minor": 4
}
